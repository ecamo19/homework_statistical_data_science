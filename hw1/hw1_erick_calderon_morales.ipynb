{
 "cells": [
  {
   "cell_type": "markdown",
   "id": "adult-chuck",
   "metadata": {},
   "source": [
    "STAT 534: Homework 1\n",
    "Fall 2021\n",
    "Due: Monday, September 13, 12:30 pm"
   ]
  },
  {
   "cell_type": "markdown",
   "id": "second-arlington",
   "metadata": {},
   "source": [
    "1. (Excerpted from Problem 3.8 in textbook) Using the penguins data set from the palmerpenguins package: (Hint: use na.omit(penguins) to remove cases with missing values.)depth and bill length?\n"
   ]
  },
  {
   "cell_type": "markdown",
   "id": "arabic-negative",
   "metadata": {},
   "source": [
    "(a) Create a scatterplot of bill length mm against bill depth mm where individual species are colored and a regression line is added to each species. What do you observe about the association of bill\n"
   ]
  },
  {
   "cell_type": "code",
   "execution_count": null,
   "id": "educated-society",
   "metadata": {},
   "outputs": [],
   "source": []
  },
  {
   "cell_type": "code",
   "execution_count": null,
   "id": "lovely-depth",
   "metadata": {},
   "outputs": [],
   "source": []
  },
  {
   "cell_type": "code",
   "execution_count": null,
   "id": "defensive-concord",
   "metadata": {},
   "outputs": [],
   "source": [
    "(b) Repeat the same scatterplot but now separate your plot into facets by sex. How would you summarize the association between bill depth and bill length?"
   ]
  },
  {
   "cell_type": "code",
   "execution_count": null,
   "id": "accomplished-creature",
   "metadata": {},
   "outputs": [],
   "source": []
  },
  {
   "cell_type": "code",
   "execution_count": null,
   "id": "based-highland",
   "metadata": {},
   "outputs": [],
   "source": []
  },
  {
   "cell_type": "markdown",
   "id": "interim-equilibrium",
   "metadata": {},
   "source": [
    "2. Using storm data from the dplyr package:"
   ]
  },
  {
   "cell_type": "markdown",
   "id": "german-friendly",
   "metadata": {},
   "source": [
    "(a) Produce a histogram of the pressure variable. Fill your bars using the category variable."
   ]
  },
  {
   "cell_type": "code",
   "execution_count": null,
   "id": "fresh-writer",
   "metadata": {},
   "outputs": [],
   "source": []
  },
  {
   "cell_type": "code",
   "execution_count": null,
   "id": "meaning-central",
   "metadata": {},
   "outputs": [],
   "source": []
  },
  {
   "cell_type": "markdown",
   "id": "musical-kruger",
   "metadata": {},
   "source": [
    "(b) Repeat part (a) with the wind speed variable."
   ]
  },
  {
   "cell_type": "code",
   "execution_count": null,
   "id": "absolute-mathematics",
   "metadata": {},
   "outputs": [],
   "source": []
  },
  {
   "cell_type": "code",
   "execution_count": null,
   "id": "developing-condition",
   "metadata": {},
   "outputs": [],
   "source": []
  },
  {
   "cell_type": "markdown",
   "id": "banned-sport",
   "metadata": {},
   "source": [
    "(c) Use geom path() to plot the path of each tropical storm in 2014. Use color to distinguish the storms from one another. Which storm in 2014 made it the furthest North?"
   ]
  },
  {
   "cell_type": "code",
   "execution_count": null,
   "id": "streaming-cornell",
   "metadata": {},
   "outputs": [],
   "source": []
  },
  {
   "cell_type": "code",
   "execution_count": null,
   "id": "compressed-charity",
   "metadata": {},
   "outputs": [],
   "source": []
  },
  {
   "cell_type": "markdown",
   "id": "meaningful-michigan",
   "metadata": {},
   "source": [
    "(d) Challenge: show changes in the category variable along the paths in part (c). (Hint: group the data by names and add another aesthetic that maps category.)\n",
    "Remarks: The group aesthetic is by default set to the interaction of all discrete variables in the plot. This choice often partitions the data correctly, but when it does not, or when no discrete variable is used in the plot, you will need to explicitly define the grouping structure by mapping group to a variable that has a different value for each group."
   ]
  },
  {
   "cell_type": "code",
   "execution_count": null,
   "id": "overhead-allen",
   "metadata": {},
   "outputs": [],
   "source": []
  },
  {
   "cell_type": "code",
   "execution_count": null,
   "id": "increasing-functionality",
   "metadata": {},
   "outputs": [],
   "source": []
  },
  {
   "cell_type": "markdown",
   "id": "baking-republican",
   "metadata": {},
   "source": [
    "3. COVID-19 vignette"
   ]
  },
  {
   "cell_type": "markdown",
   "id": "identical-world",
   "metadata": {},
   "source": [
    "(a) Use data in us cases.txt (data source: New York Times [repository](https://github.com/nytimes/covid-19-data) of COVID-19 data) to reproduce\n",
    "Figure (a) with geom col() and geom smooth(span = 0.1, method = ”loess”, se = F) ."
   ]
  },
  {
   "cell_type": "markdown",
   "id": "silver-cloud",
   "metadata": {},
   "source": [
    "![Drag Racing](figure_a.png)"
   ]
  },
  {
   "cell_type": "code",
   "execution_count": null,
   "id": "necessary-dodge",
   "metadata": {},
   "outputs": [],
   "source": []
  },
  {
   "cell_type": "code",
   "execution_count": null,
   "id": "sweet-retailer",
   "metadata": {},
   "outputs": [],
   "source": []
  },
  {
   "cell_type": "markdown",
   "id": "removable-entrance",
   "metadata": {},
   "source": [
    "(b) Challenge: reproduce Figure (b) with gghighlight() function in the gghighlight package."
   ]
  },
  {
   "cell_type": "markdown",
   "id": "modular-developer",
   "metadata": {},
   "source": [
    "![Drag Racing](figure_b.png)"
   ]
  }
 ],
 "metadata": {
  "kernelspec": {
   "display_name": "R",
   "language": "R",
   "name": "ir"
  },
  "language_info": {
   "codemirror_mode": "r",
   "file_extension": ".r",
   "mimetype": "text/x-r-source",
   "name": "R",
   "pygments_lexer": "r",
   "version": "4.1.1"
  }
 },
 "nbformat": 4,
 "nbformat_minor": 5
}
