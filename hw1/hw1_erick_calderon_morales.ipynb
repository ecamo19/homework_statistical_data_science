{
 "cells": [
  {
   "cell_type": "markdown",
   "id": "favorite-insurance",
   "metadata": {},
   "source": [
    "# STAT 534: Homework 1\"\n",
    "\n",
    "_Fall 2021_\n",
    "\n",
    "_Due: Monday, September 13, 12:30 pm_"
   ]
  },
  {
   "cell_type": "code",
   "execution_count": null,
   "id": "fossil-individual",
   "metadata": {},
   "outputs": [],
   "source": [
    "# Packages\n",
    "library(tidyverse)\n",
    "library(palmerpenguins)"
   ]
  },
  {
   "cell_type": "markdown",
   "id": "toxic-mixture",
   "metadata": {},
   "source": [
    "### 1.(Excerpted from Problem 3.8 in textbook) Using the penguins data set from the palmerpenguins package: (Hint: use na.omit(penguins) to remove cases with missing values.)depth and bill length?\n"
   ]
  },
  {
   "cell_type": "markdown",
   "id": "opposite-shepherd",
   "metadata": {},
   "source": [
    "* (a) Create a scatterplot of bill length mm against bill depth mm where individual species are colored and a regression line is added to each species. What do you observe about the association of bill\n"
   ]
  },
  {
   "cell_type": "code",
   "execution_count": null,
   "id": "reported-beginning",
   "metadata": {},
   "outputs": [],
   "source": []
  },
  {
   "cell_type": "code",
   "execution_count": null,
   "id": "shared-vaccine",
   "metadata": {},
   "outputs": [],
   "source": []
  },
  {
   "cell_type": "markdown",
   "id": "funny-little",
   "metadata": {},
   "source": [
    "* (b) Repeat the same scatterplot but now separate your plot into facets by sex. How would you summarize the association between bill depth and bill length?"
   ]
  },
  {
   "cell_type": "code",
   "execution_count": null,
   "id": "short-sharing",
   "metadata": {},
   "outputs": [],
   "source": []
  },
  {
   "cell_type": "code",
   "execution_count": null,
   "id": "sophisticated-spelling",
   "metadata": {},
   "outputs": [],
   "source": []
  },
  {
   "cell_type": "markdown",
   "id": "expected-electricity",
   "metadata": {},
   "source": [
    "### 2. Using storm data from the dplyr package:"
   ]
  },
  {
   "cell_type": "markdown",
   "id": "universal-composite",
   "metadata": {},
   "source": [
    "* (a) Produce a histogram of the pressure variable. Fill your bars using the category variable."
   ]
  },
  {
   "cell_type": "code",
   "execution_count": null,
   "id": "optional-hearing",
   "metadata": {},
   "outputs": [],
   "source": []
  },
  {
   "cell_type": "code",
   "execution_count": null,
   "id": "crazy-modeling",
   "metadata": {},
   "outputs": [],
   "source": []
  },
  {
   "cell_type": "markdown",
   "id": "photographic-resolution",
   "metadata": {},
   "source": [
    "* (b) Repeat part (a) with the wind speed variable."
   ]
  },
  {
   "cell_type": "code",
   "execution_count": null,
   "id": "advised-consortium",
   "metadata": {},
   "outputs": [],
   "source": []
  },
  {
   "cell_type": "code",
   "execution_count": null,
   "id": "effective-particular",
   "metadata": {},
   "outputs": [],
   "source": []
  },
  {
   "cell_type": "markdown",
   "id": "elder-boards",
   "metadata": {},
   "source": [
    "* (c) Use geom path() to plot the path of each tropical storm in 2014. Use color to distinguish the storms from one another. Which storm in 2014 made it the furthest North?"
   ]
  },
  {
   "cell_type": "code",
   "execution_count": null,
   "id": "handed-atlantic",
   "metadata": {},
   "outputs": [],
   "source": []
  },
  {
   "cell_type": "code",
   "execution_count": null,
   "id": "moving-tsunami",
   "metadata": {},
   "outputs": [],
   "source": []
  },
  {
   "cell_type": "markdown",
   "id": "basic-strategy",
   "metadata": {},
   "source": [
    "* (d) Challenge: show changes in the category variable along the paths in part (c). (Hint: group the data by names and add another aesthetic that maps category.)Remarks: The group aesthetic is by default set to the interaction of all discrete variables in the plot. This choice often partitions the data correctly, but when it does not, or when no discrete variable is used in the plot, you will need to explicitly define the grouping structure by mapping group to a variable that has a different value for each group."
   ]
  },
  {
   "cell_type": "code",
   "execution_count": null,
   "id": "unsigned-kidney",
   "metadata": {},
   "outputs": [],
   "source": []
  },
  {
   "cell_type": "code",
   "execution_count": null,
   "id": "passing-communication",
   "metadata": {},
   "outputs": [],
   "source": []
  },
  {
   "cell_type": "markdown",
   "id": "aerial-austria",
   "metadata": {},
   "source": [
    "### 3. COVID-19 vignette"
   ]
  },
  {
   "cell_type": "markdown",
   "id": "dressed-durham",
   "metadata": {},
   "source": [
    "* (a) Use data in us cases.txt (data source: New York Times [repository](https://github.com/nytimes/covid-19-data) of COVID-19 data) to reproduce Figure (a) with geom col() and geom smooth(span = 0.1, method = ”loess”, se = F) ."
   ]
  },
  {
   "cell_type": "markdown",
   "id": "racial-organizer",
   "metadata": {},
   "source": [
    "![Drag Racing](figure_a.png)"
   ]
  },
  {
   "cell_type": "code",
   "execution_count": null,
   "id": "hollow-outdoors",
   "metadata": {},
   "outputs": [],
   "source": []
  },
  {
   "cell_type": "code",
   "execution_count": 2,
   "id": "planned-holder",
   "metadata": {},
   "outputs": [
    {
     "data": {
      "text/html": [
       "<style>\n",
       ".list-inline {list-style: none; margin:0; padding: 0}\n",
       ".list-inline>li {display: inline-block}\n",
       ".list-inline>li:not(:last-child)::after {content: \"\\00b7\"; padding: 0 .5ex}\n",
       "</style>\n",
       "<ol class=list-inline><li>'data_hw1'</li><li>'figure_a.png'</li><li>'figure_b.png'</li><li>'hw1_erick_calderon_morales.ipynb'</li><li>'hw1_instructions.pdf'</li></ol>\n"
      ],
      "text/latex": [
       "\\begin{enumerate*}\n",
       "\\item 'data\\_hw1'\n",
       "\\item 'figure\\_a.png'\n",
       "\\item 'figure\\_b.png'\n",
       "\\item 'hw1\\_erick\\_calderon\\_morales.ipynb'\n",
       "\\item 'hw1\\_instructions.pdf'\n",
       "\\end{enumerate*}\n"
      ],
      "text/markdown": [
       "1. 'data_hw1'\n",
       "2. 'figure_a.png'\n",
       "3. 'figure_b.png'\n",
       "4. 'hw1_erick_calderon_morales.ipynb'\n",
       "5. 'hw1_instructions.pdf'\n",
       "\n",
       "\n"
      ],
      "text/plain": [
       "[1] \"data_hw1\"                         \"figure_a.png\"                    \n",
       "[3] \"figure_b.png\"                     \"hw1_erick_calderon_morales.ipynb\"\n",
       "[5] \"hw1_instructions.pdf\"            "
      ]
     },
     "metadata": {},
     "output_type": "display_data"
    }
   ],
   "source": []
  },
  {
   "cell_type": "markdown",
   "id": "desperate-convention",
   "metadata": {},
   "source": [
    "* (b) Challenge: reproduce Figure (b) with gghighlight() function in the gghighlight package."
   ]
  },
  {
   "cell_type": "markdown",
   "id": "short-vatican",
   "metadata": {},
   "source": [
    "![Figure B](figure_b.png)\n"
   ]
  }
 ],
 "metadata": {
  "kernelspec": {
   "display_name": "R",
   "language": "R",
   "name": "ir"
  },
  "language_info": {
   "codemirror_mode": "r",
   "file_extension": ".r",
   "mimetype": "text/x-r-source",
   "name": "R",
   "pygments_lexer": "r",
   "version": "4.1.1"
  }
 },
 "nbformat": 4,
 "nbformat_minor": 5
}
